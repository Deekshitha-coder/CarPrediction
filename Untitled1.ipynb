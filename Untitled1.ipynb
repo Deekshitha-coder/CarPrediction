{
 "cells": [
  {
   "cell_type": "code",
   "execution_count": 1,
   "metadata": {},
   "outputs": [
    {
     "name": "stdout",
     "output_type": "stream",
     "text": [
      "Requirement already satisfied: seaborn in c:\\users\\ruchi\\anaconda3\\lib\\site-packages (0.11.1)\n",
      "Requirement already satisfied: matplotlib>=2.2 in c:\\users\\ruchi\\anaconda3\\lib\\site-packages (from seaborn) (3.1.3)\n",
      "Requirement already satisfied: scipy>=1.0 in c:\\users\\ruchi\\anaconda3\\lib\\site-packages (from seaborn) (1.4.1)\n",
      "Requirement already satisfied: numpy>=1.15 in c:\\users\\ruchi\\anaconda3\\lib\\site-packages (from seaborn) (1.18.1)\n",
      "Requirement already satisfied: pandas>=0.23 in c:\\users\\ruchi\\anaconda3\\lib\\site-packages (from seaborn) (1.0.1)\n",
      "Requirement already satisfied: kiwisolver>=1.0.1 in c:\\users\\ruchi\\anaconda3\\lib\\site-packages (from matplotlib>=2.2->seaborn) (1.1.0)\n",
      "Requirement already satisfied: cycler>=0.10 in c:\\users\\ruchi\\anaconda3\\lib\\site-packages (from matplotlib>=2.2->seaborn) (0.10.0)\n",
      "Requirement already satisfied: python-dateutil>=2.1 in c:\\users\\ruchi\\anaconda3\\lib\\site-packages (from matplotlib>=2.2->seaborn) (2.8.1)\n",
      "Requirement already satisfied: pyparsing!=2.0.4,!=2.1.2,!=2.1.6,>=2.0.1 in c:\\users\\ruchi\\anaconda3\\lib\\site-packages (from matplotlib>=2.2->seaborn) (2.4.6)\n",
      "Requirement already satisfied: pytz>=2017.2 in c:\\users\\ruchi\\anaconda3\\lib\\site-packages (from pandas>=0.23->seaborn) (2019.3)\n",
      "Requirement already satisfied: setuptools in c:\\users\\ruchi\\anaconda3\\lib\\site-packages (from kiwisolver>=1.0.1->matplotlib>=2.2->seaborn) (45.2.0.post20200210)\n",
      "Requirement already satisfied: six in c:\\users\\ruchi\\anaconda3\\lib\\site-packages (from cycler>=0.10->matplotlib>=2.2->seaborn) (1.14.0)\n"
     ]
    }
   ],
   "source": [
    "!pip install seaborn\n"
   ]
  },
  {
   "cell_type": "code",
   "execution_count": null,
   "metadata": {},
   "outputs": [],
   "source": []
  }
 ],
 "metadata": {
  "kernelspec": {
   "display_name": "Python 3",
   "language": "python",
   "name": "python3"
  },
  "language_info": {
   "codemirror_mode": {
    "name": "ipython",
    "version": 3
   },
   "file_extension": ".py",
   "mimetype": "text/x-python",
   "name": "python",
   "nbconvert_exporter": "python",
   "pygments_lexer": "ipython3",
   "version": "3.7.6"
  }
 },
 "nbformat": 4,
 "nbformat_minor": 4
}
